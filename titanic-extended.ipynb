{
 "cells": [
  {
   "cell_type": "code",
   "execution_count": 56,
   "metadata": {},
   "outputs": [],
   "source": [
    "import pandas as pd\n",
    "import numpy as np\n",
    "import cupy as cp\n",
    "\n",
    "import time\n",
    "\n",
    "import matplotlib.pyplot as plt\n",
    "\n",
    "import torch\n",
    "import torch.nn as nn\n",
    "from torch.optim import SGD\n",
    "from torch.nn import BCEWithLogitsLoss\n",
    "\n",
    "import warnings\n",
    "warnings.filterwarnings('ignore')"
   ]
  },
  {
   "cell_type": "markdown",
   "metadata": {},
   "source": [
    "### Data"
   ]
  },
  {
   "cell_type": "code",
   "execution_count": 57,
   "metadata": {},
   "outputs": [
    {
     "name": "stdout",
     "output_type": "stream",
     "text": [
      "processed.cleveland.data  titanic3.xls\ttitanic.csv  Titanic.csv\r\n"
     ]
    }
   ],
   "source": [
    "! ls data"
   ]
  },
  {
   "cell_type": "code",
   "execution_count": 58,
   "metadata": {},
   "outputs": [
    {
     "data": {
      "text/html": [
       "<div>\n",
       "<style scoped>\n",
       "    .dataframe tbody tr th:only-of-type {\n",
       "        vertical-align: middle;\n",
       "    }\n",
       "\n",
       "    .dataframe tbody tr th {\n",
       "        vertical-align: top;\n",
       "    }\n",
       "\n",
       "    .dataframe thead th {\n",
       "        text-align: right;\n",
       "    }\n",
       "</style>\n",
       "<table border=\"1\" class=\"dataframe\">\n",
       "  <thead>\n",
       "    <tr style=\"text-align: right;\">\n",
       "      <th></th>\n",
       "      <th>pclass</th>\n",
       "      <th>survived</th>\n",
       "      <th>name</th>\n",
       "      <th>sex</th>\n",
       "      <th>age</th>\n",
       "      <th>sibsp</th>\n",
       "      <th>parch</th>\n",
       "      <th>ticket</th>\n",
       "      <th>fare</th>\n",
       "      <th>cabin</th>\n",
       "      <th>embarked</th>\n",
       "      <th>boat</th>\n",
       "      <th>body</th>\n",
       "      <th>home.dest</th>\n",
       "    </tr>\n",
       "  </thead>\n",
       "  <tbody>\n",
       "    <tr>\n",
       "      <th>0</th>\n",
       "      <td>1</td>\n",
       "      <td>1</td>\n",
       "      <td>Allen, Miss. Elisabeth Walton</td>\n",
       "      <td>female</td>\n",
       "      <td>29.0000</td>\n",
       "      <td>0</td>\n",
       "      <td>0</td>\n",
       "      <td>24160</td>\n",
       "      <td>211.3375</td>\n",
       "      <td>B5</td>\n",
       "      <td>S</td>\n",
       "      <td>2</td>\n",
       "      <td>NaN</td>\n",
       "      <td>St Louis, MO</td>\n",
       "    </tr>\n",
       "    <tr>\n",
       "      <th>1</th>\n",
       "      <td>1</td>\n",
       "      <td>1</td>\n",
       "      <td>Allison, Master. Hudson Trevor</td>\n",
       "      <td>male</td>\n",
       "      <td>0.9167</td>\n",
       "      <td>1</td>\n",
       "      <td>2</td>\n",
       "      <td>113781</td>\n",
       "      <td>151.5500</td>\n",
       "      <td>C22 C26</td>\n",
       "      <td>S</td>\n",
       "      <td>11</td>\n",
       "      <td>NaN</td>\n",
       "      <td>Montreal, PQ / Chesterville, ON</td>\n",
       "    </tr>\n",
       "    <tr>\n",
       "      <th>2</th>\n",
       "      <td>1</td>\n",
       "      <td>0</td>\n",
       "      <td>Allison, Miss. Helen Loraine</td>\n",
       "      <td>female</td>\n",
       "      <td>2.0000</td>\n",
       "      <td>1</td>\n",
       "      <td>2</td>\n",
       "      <td>113781</td>\n",
       "      <td>151.5500</td>\n",
       "      <td>C22 C26</td>\n",
       "      <td>S</td>\n",
       "      <td>NaN</td>\n",
       "      <td>NaN</td>\n",
       "      <td>Montreal, PQ / Chesterville, ON</td>\n",
       "    </tr>\n",
       "  </tbody>\n",
       "</table>\n",
       "</div>"
      ],
      "text/plain": [
       "   pclass  survived                            name     sex      age  sibsp  \\\n",
       "0       1         1   Allen, Miss. Elisabeth Walton  female  29.0000      0   \n",
       "1       1         1  Allison, Master. Hudson Trevor    male   0.9167      1   \n",
       "2       1         0    Allison, Miss. Helen Loraine  female   2.0000      1   \n",
       "\n",
       "   parch  ticket      fare    cabin embarked boat  body  \\\n",
       "0      0   24160  211.3375       B5        S    2   NaN   \n",
       "1      2  113781  151.5500  C22 C26        S   11   NaN   \n",
       "2      2  113781  151.5500  C22 C26        S  NaN   NaN   \n",
       "\n",
       "                         home.dest  \n",
       "0                     St Louis, MO  \n",
       "1  Montreal, PQ / Chesterville, ON  \n",
       "2  Montreal, PQ / Chesterville, ON  "
      ]
     },
     "execution_count": 58,
     "metadata": {},
     "output_type": "execute_result"
    }
   ],
   "source": [
    "df = pd.read_excel(\"data/titanic3.xls\")\n",
    "df.head(3)"
   ]
  },
  {
   "cell_type": "code",
   "execution_count": 59,
   "metadata": {},
   "outputs": [],
   "source": [
    "# Drop some useless information\n",
    "info_to_remove = [\"name\", \"ticket\", \"cabin\", \"body\", \"boat\"]\n",
    "df = df.drop(columns=info_to_remove)"
   ]
  },
  {
   "cell_type": "code",
   "execution_count": 60,
   "metadata": {},
   "outputs": [],
   "source": [
    "# One hot encoding\n",
    "df[\"S_embarked\"] = (df.embarked == \"S\")*1\n",
    "df[\"C_embarked\"] = (df.embarked == \"C\")*1\n",
    "df[\"Q_embarked\"] = (df.embarked == \"Q\")*1\n",
    "\n",
    "df = df.drop(columns=[\"embarked\"])"
   ]
  },
  {
   "cell_type": "code",
   "execution_count": 61,
   "metadata": {},
   "outputs": [],
   "source": [
    "df[\"sex\"] = df[\"sex\"].apply(lambda x: 1 if x == \"male\" else 0)"
   ]
  },
  {
   "cell_type": "code",
   "execution_count": 62,
   "metadata": {
    "scrolled": true
   },
   "outputs": [
    {
     "data": {
      "text/plain": [
       "Other                               781\n",
       "New York, NY                         64\n",
       "London                               14\n",
       "Montreal, PQ                         10\n",
       "Paris, France                         9\n",
       "                                   ... \n",
       "Spain / Havana, Cuba                  2\n",
       "St Ives, Cornwall / Calumet, MI       2\n",
       "London / Paris                        2\n",
       "Elizabeth, NJ                         2\n",
       "Co Athlone, Ireland New York, NY      2\n",
       "Name: home.dest, Length: 153, dtype: int64"
      ]
     },
     "execution_count": 62,
     "metadata": {},
     "output_type": "execute_result"
    }
   ],
   "source": [
    "# Replace NaNs in \"home.dest\"\n",
    "df[\"home.dest\"][df[\"home.dest\"].isna()] = [\"Other\" for _ in range(df[\"home.dest\"][df[\"home.dest\"].isna()].shape[0])]\n",
    "df[\"home.dest\"] = df[\"home.dest\"].apply(lambda x: x if df[\"home.dest\"].value_counts()[x] > 1 else \"Other\" )\n",
    "\n",
    "df[\"home.dest\"].value_counts()"
   ]
  },
  {
   "cell_type": "code",
   "execution_count": 63,
   "metadata": {},
   "outputs": [],
   "source": [
    "# Encoding with counts\n",
    "df[\"home.dest_counts\"] = df[\"home.dest\"].apply(lambda x: df[\"home.dest\"].value_counts()[x] / df.shape[0])\n",
    "df = df.drop(columns=[\"home.dest\"])"
   ]
  },
  {
   "cell_type": "code",
   "execution_count": 64,
   "metadata": {},
   "outputs": [],
   "source": [
    "# Fill nans with mean values\n",
    "df[\"age\"][df[\"age\"].isna()] = df[\"age\"][~df[\"age\"].isna()].mean()\n",
    "df[\"fare\"][df[\"fare\"].isna()] = df[\"fare\"][~df[\"fare\"].isna()].mean()"
   ]
  },
  {
   "cell_type": "code",
   "execution_count": 65,
   "metadata": {},
   "outputs": [
    {
     "data": {
      "text/html": [
       "<div>\n",
       "<style scoped>\n",
       "    .dataframe tbody tr th:only-of-type {\n",
       "        vertical-align: middle;\n",
       "    }\n",
       "\n",
       "    .dataframe tbody tr th {\n",
       "        vertical-align: top;\n",
       "    }\n",
       "\n",
       "    .dataframe thead th {\n",
       "        text-align: right;\n",
       "    }\n",
       "</style>\n",
       "<table border=\"1\" class=\"dataframe\">\n",
       "  <thead>\n",
       "    <tr style=\"text-align: right;\">\n",
       "      <th></th>\n",
       "      <th>pclass</th>\n",
       "      <th>survived</th>\n",
       "      <th>sex</th>\n",
       "      <th>age</th>\n",
       "      <th>sibsp</th>\n",
       "      <th>parch</th>\n",
       "      <th>fare</th>\n",
       "      <th>S_embarked</th>\n",
       "      <th>C_embarked</th>\n",
       "      <th>Q_embarked</th>\n",
       "      <th>home.dest_counts</th>\n",
       "    </tr>\n",
       "  </thead>\n",
       "  <tbody>\n",
       "    <tr>\n",
       "      <th>0</th>\n",
       "      <td>1</td>\n",
       "      <td>1</td>\n",
       "      <td>0</td>\n",
       "      <td>29.0000</td>\n",
       "      <td>0</td>\n",
       "      <td>0</td>\n",
       "      <td>211.3375</td>\n",
       "      <td>1</td>\n",
       "      <td>0</td>\n",
       "      <td>0</td>\n",
       "      <td>0.003056</td>\n",
       "    </tr>\n",
       "    <tr>\n",
       "      <th>1</th>\n",
       "      <td>1</td>\n",
       "      <td>1</td>\n",
       "      <td>1</td>\n",
       "      <td>0.9167</td>\n",
       "      <td>1</td>\n",
       "      <td>2</td>\n",
       "      <td>151.5500</td>\n",
       "      <td>1</td>\n",
       "      <td>0</td>\n",
       "      <td>0</td>\n",
       "      <td>0.003056</td>\n",
       "    </tr>\n",
       "    <tr>\n",
       "      <th>2</th>\n",
       "      <td>1</td>\n",
       "      <td>0</td>\n",
       "      <td>0</td>\n",
       "      <td>2.0000</td>\n",
       "      <td>1</td>\n",
       "      <td>2</td>\n",
       "      <td>151.5500</td>\n",
       "      <td>1</td>\n",
       "      <td>0</td>\n",
       "      <td>0</td>\n",
       "      <td>0.003056</td>\n",
       "    </tr>\n",
       "  </tbody>\n",
       "</table>\n",
       "</div>"
      ],
      "text/plain": [
       "   pclass  survived  sex      age  sibsp  parch      fare  S_embarked  \\\n",
       "0       1         1    0  29.0000      0      0  211.3375           1   \n",
       "1       1         1    1   0.9167      1      2  151.5500           1   \n",
       "2       1         0    0   2.0000      1      2  151.5500           1   \n",
       "\n",
       "   C_embarked  Q_embarked  home.dest_counts  \n",
       "0           0           0          0.003056  \n",
       "1           0           0          0.003056  \n",
       "2           0           0          0.003056  "
      ]
     },
     "execution_count": 65,
     "metadata": {},
     "output_type": "execute_result"
    }
   ],
   "source": [
    "df.head(3)"
   ]
  },
  {
   "cell_type": "code",
   "execution_count": 66,
   "metadata": {},
   "outputs": [],
   "source": [
    "# Normalize\n",
    "for column in [\"pclass\", \"age\", \"parch\", \"fare\"]:\n",
    "    df[column] = df[column]/df[column].mean()"
   ]
  },
  {
   "cell_type": "code",
   "execution_count": 67,
   "metadata": {},
   "outputs": [
    {
     "name": "stdout",
     "output_type": "stream",
     "text": [
      "Data sizes: df1=1309, df2=14399, df3=158389\n"
     ]
    }
   ],
   "source": [
    "# Dublicate data\n",
    "df1 = df.copy()\n",
    "\n",
    "df2 = df.copy()\n",
    "for i in range(10):\n",
    "    df2 = pd.concat([df2, df], ignore_index=True)\n",
    "    \n",
    "df3 = df2.copy()\n",
    "for i in range(10):\n",
    "    df3 = pd.concat([df3, df2], ignore_index=True)\n",
    "    \n",
    "print(\"Data sizes: df1={}, df2={}, df3={}\".format(df1.shape[0], df2.shape[0], df3.shape[0]))"
   ]
  },
  {
   "cell_type": "code",
   "execution_count": 68,
   "metadata": {},
   "outputs": [],
   "source": [
    "dfs = [df1, df2, df3]"
   ]
  },
  {
   "cell_type": "code",
   "execution_count": 69,
   "metadata": {},
   "outputs": [],
   "source": [
    "# Feature matrix and target\n",
    "features_names = list(df.columns)\n",
    "features_names.remove(\"survived\")\n",
    "\n",
    "X_ars = [np.array(df1[features_names]), np.array(df2[features_names]), np.array(df3[features_names])]\n",
    "y_ars = [np.array(df1[\"survived\"].values), np.array(df2[\"survived\"].values), np.array(df3[\"survived\"].values)]\n"
   ]
  },
  {
   "cell_type": "markdown",
   "metadata": {},
   "source": [
    "## Experiments"
   ]
  },
  {
   "cell_type": "code",
   "execution_count": 70,
   "metadata": {},
   "outputs": [],
   "source": [
    "accuracys, training_times = [{}, {}, {}], [{}, {}, {}]"
   ]
  },
  {
   "cell_type": "markdown",
   "metadata": {},
   "source": [
    "### Sklearn"
   ]
  },
  {
   "cell_type": "code",
   "execution_count": 71,
   "metadata": {},
   "outputs": [],
   "source": [
    "from sklearn.linear_model import LogisticRegression as LogisticRegression_sklearn"
   ]
  },
  {
   "cell_type": "code",
   "execution_count": 72,
   "metadata": {},
   "outputs": [],
   "source": [
    "for i, (X_ar, y_ar) in enumerate(zip(X_ars, y_ars)):\n",
    "\n",
    "    clf = LogisticRegression_sklearn(max_iter=50)\n",
    "\n",
    "    start = time.time()\n",
    "    clf.fit(X_ar, y_ar )\n",
    "    training_times[i][\"sklearn\"] = time.time() - start \n",
    "    \n",
    "    accuracys[i][\"sklearn\"] = clf.score(X_ar, y_ar)"
   ]
  },
  {
   "cell_type": "markdown",
   "metadata": {},
   "source": [
    "### Numpy"
   ]
  },
  {
   "cell_type": "code",
   "execution_count": 73,
   "metadata": {},
   "outputs": [],
   "source": [
    "from logistic_regression_numpy_cupy import LogisticRegression_py"
   ]
  },
  {
   "cell_type": "code",
   "execution_count": 74,
   "metadata": {},
   "outputs": [],
   "source": [
    "for i, (X_ar, y_ar) in enumerate(zip(X_ars, y_ars)):\n",
    "\n",
    "    clf = LogisticRegression_py(5, xp=np)\n",
    "\n",
    "    start = time.time()\n",
    "    clf.fit(X_ar, y_ar, num_itr=50, lr=1e-4)\n",
    "    training_times[i][\"numpy\"] = time.time() - start \n",
    "    \n",
    "    accuracys[i][\"numpy\"] = clf.score(X_ar, y_ar)"
   ]
  },
  {
   "cell_type": "markdown",
   "metadata": {},
   "source": [
    "### Numpy loop"
   ]
  },
  {
   "cell_type": "code",
   "execution_count": 75,
   "metadata": {},
   "outputs": [],
   "source": [
    "from logistic_regression_numpy_loop import forward_loop, score_loop"
   ]
  },
  {
   "cell_type": "code",
   "execution_count": null,
   "metadata": {
    "scrolled": true
   },
   "outputs": [
    {
     "name": "stdout",
     "output_type": "stream",
     "text": [
      "1 itr: loss=2.278029011203632, acc=0.4919786096256685\n",
      "2 itr: loss=2.2691950839001125, acc=0.4919786096256685\n",
      "3 itr: loss=2.2604734922060032, acc=0.4919786096256685\n",
      "4 itr: loss=2.2518626646048263, acc=0.4919786096256685\n",
      "5 itr: loss=2.2433610481350295, acc=0.4919786096256685\n",
      "6 itr: loss=2.2349671083440303, acc=0.492742551566081\n",
      "7 itr: loss=2.2266793292378373, acc=0.492742551566081\n",
      "8 itr: loss=2.2184962132262314, acc=0.492742551566081\n",
      "9 itr: loss=2.2104162810635803, acc=0.492742551566081\n",
      "10 itr: loss=2.202438071784986, acc=0.492742551566081\n",
      "11 itr: loss=2.1945601426378447, acc=0.492742551566081\n",
      "12 itr: loss=2.1867810690088523, acc=0.492742551566081\n",
      "13 itr: loss=2.1790994443462677, acc=0.492742551566081\n",
      "14 itr: loss=2.1715138800775393, acc=0.492742551566081\n",
      "15 itr: loss=2.1640230055222935, acc=0.492742551566081\n",
      "16 itr: loss=2.1566254678007044, acc=0.492742551566081\n",
      "17 itr: loss=2.149319931737207, acc=0.492742551566081\n",
      "18 itr: loss=2.142105079759695, acc=0.492742551566081\n",
      "19 itr: loss=2.134979611794296, acc=0.492742551566081\n",
      "20 itr: loss=2.1279422451556407, acc=0.4912146676852559\n",
      "21 itr: loss=2.120991714432864, acc=0.492742551566081\n",
      "22 itr: loss=2.1141267713714154, acc=0.492742551566081\n",
      "23 itr: loss=2.1073461847507513, acc=0.492742551566081\n",
      "24 itr: loss=2.1006487402579928, acc=0.492742551566081\n",
      "25 itr: loss=2.094033240357869, acc=0.492742551566081\n",
      "26 itr: loss=2.087498504158812, acc=0.492742551566081\n",
      "27 itr: loss=2.0810433672755413, acc=0.492742551566081\n",
      "28 itr: loss=2.0746666816883854, acc=0.492742551566081\n",
      "29 itr: loss=2.068367315599125, acc=0.492742551566081\n",
      "30 itr: loss=2.0621441532839455, acc=0.492742551566081\n",
      "31 itr: loss=2.0559960949434797, acc=0.492742551566081\n",
      "32 itr: loss=2.0499220565500225, acc=0.492742551566081\n",
      "33 itr: loss=2.0439209696923353, acc=0.492742551566081\n",
      "34 itr: loss=2.037991781417975, acc=0.4935064935064935\n",
      "35 itr: loss=2.0321334540735343, acc=0.492742551566081\n",
      "36 itr: loss=2.026344965142787, acc=0.492742551566081\n",
      "37 itr: loss=2.0206253070831153, acc=0.4919786096256685\n",
      "38 itr: loss=2.014973487160232, acc=0.4919786096256685\n",
      "39 itr: loss=2.0093885272814194, acc=0.4919786096256685\n",
      "40 itr: loss=2.0038694638275802, acc=0.4919786096256685\n",
      "41 itr: loss=1.9984153474840378, acc=0.4919786096256685\n",
      "42 itr: loss=1.993025243070556, acc=0.4919786096256685\n",
      "43 itr: loss=1.9876982293704433, acc=0.4919786096256685\n",
      "44 itr: loss=1.9824333989591088, acc=0.4919786096256685\n",
      "45 itr: loss=1.9772298580322056, acc=0.4919786096256685\n",
      "46 itr: loss=1.9720867262333412, acc=0.4919786096256685\n",
      "47 itr: loss=1.9670031364818228, acc=0.4919786096256685\n",
      "48 itr: loss=1.9619782348002026, acc=0.4919786096256685\n",
      "49 itr: loss=1.9570111801421217, acc=0.4919786096256685\n",
      "50 itr: loss=1.952101144220297, acc=0.4919786096256685\n",
      "1 itr: loss=2.5050415070161027, acc=0.22307104660045837\n",
      "2 itr: loss=2.3753909146401195, acc=0.22230710466004583\n",
      "3 itr: loss=2.262914334593565, acc=0.22765469824293355\n",
      "4 itr: loss=2.165375761464779, acc=0.22994652406417113\n",
      "5 itr: loss=2.0807918475248903, acc=0.2345301757066463\n",
      "6 itr: loss=2.0074064937250102, acc=0.2345301757066463\n",
      "7 itr: loss=1.943670463794274, acc=0.23758594346829642\n",
      "8 itr: loss=1.8882237557638715, acc=0.23834988540870894\n",
      "9 itr: loss=1.8398793204660078, acc=0.239877769289534\n",
      "10 itr: loss=1.797607407319516, acc=0.24369747899159663\n",
      "11 itr: loss=1.7605202216667037, acc=0.2612681436210848\n",
      "12 itr: loss=1.72785682908339, acc=0.26508785332314744\n",
      "13 itr: loss=1.69896843119056, acc=0.2727272727272727\n",
      "14 itr: loss=1.673304257617378, acc=0.2765469824293354\n",
      "15 itr: loss=1.6503983481385587, acc=0.28189457601222306\n",
      "16 itr: loss=1.6298574497979352, acc=0.2880061115355233\n",
      "17 itr: loss=1.6113501636075744, acc=0.29411764705882354\n",
      "18 itr: loss=1.5945973819039712, acc=0.2987012987012987\n",
      "19 itr: loss=1.5793639832897652, acc=0.30557677616501144\n",
      "20 itr: loss=1.5654517036269793, acc=0.30863254392666156\n",
      "21 itr: loss=1.5526930751669208, acc=0.32085561497326204\n",
      "22 itr: loss=1.5409463149814173, acc=0.32391138273491216\n",
      "23 itr: loss=1.530091042705676, acc=0.33613445378151263\n",
      "24 itr: loss=1.5200247124171462, acc=0.33689839572192515\n",
      "25 itr: loss=1.5106596519261104, acc=0.346829640947288\n",
      "26 itr: loss=1.501920613291254, acc=0.3537051184110008\n",
      "27 itr: loss=1.493742749862557, acc=0.36592818945760125\n",
      "28 itr: loss=1.48606994671377, acc=0.372803666921314\n",
      "29 itr: loss=1.4788534423311297, acc=0.37967914438502676\n",
      "30 itr: loss=1.472050689463254, acc=0.387318563789152\n",
      "31 itr: loss=1.4656244119070345, acc=0.3941940412528648\n",
      "32 itr: loss=1.459541821645767, acc=0.3995416348357525\n",
      "33 itr: loss=1.4537739672163943, acc=0.40183346065699005\n",
      "34 itr: loss=1.4482951895632044, acc=0.4079449961802903\n",
      "35 itr: loss=1.4430826660709652, acc=0.413292589763178\n",
      "36 itr: loss=1.438116027094791, acc=0.4255156608097785\n",
      "37 itr: loss=1.4333770322511756, acc=0.42780748663101603\n",
      "38 itr: loss=1.4288492961198747, acc=0.4660045836516425\n",
      "39 itr: loss=1.4245180549335845, acc=0.48739495798319327\n",
      "40 itr: loss=1.4203699673873655, acc=0.5026737967914439\n",
      "41 itr: loss=1.4163929439535163, acc=0.5103132161955691\n",
      "42 itr: loss=1.4125760001002081, acc=0.5179526355996944\n",
      "43 itr: loss=1.408909129629652, acc=0.5217723453017571\n",
      "44 itr: loss=1.4053831950143603, acc=0.5240641711229946\n",
      "45 itr: loss=1.4019898321470168, acc=0.5255920550038197\n",
      "46 itr: loss=1.398721367356025, acc=0.5301757066462949\n",
      "47 itr: loss=1.3955707448963963, acc=0.5324675324675324\n",
      "48 itr: loss=1.392531463416449, acc=0.5324675324675324\n",
      "49 itr: loss=1.389597520140498, acc=0.5339954163483576\n",
      "50 itr: loss=1.3867633617058475, acc=0.5385790679908327\n",
      "1 itr: loss=2.020946385360529, acc=0.6180290297937356\n",
      "2 itr: loss=1.369410612497815, acc=0.6058059587471352\n",
      "3 itr: loss=1.3414138642685354, acc=0.6157372039724981\n",
      "4 itr: loss=1.2781584233226955, acc=0.6142093200916731\n",
      "5 itr: loss=1.2673886581232319, acc=0.6172650878533231\n",
      "6 itr: loss=1.2554416743429748, acc=0.6180290297937356\n",
      "7 itr: loss=1.2503543001456843, acc=0.6180290297937356\n",
      "8 itr: loss=1.2461591810846973, acc=0.6180290297937356\n",
      "9 itr: loss=1.2433180548029408, acc=0.6180290297937356\n",
      "10 itr: loss=1.2409735425169375, acc=0.6180290297937356\n",
      "11 itr: loss=1.2390347085987332, acc=0.6180290297937356\n",
      "12 itr: loss=1.2373269069828832, acc=0.6180290297937356\n",
      "13 itr: loss=1.235788866149744, acc=0.6180290297937356\n",
      "14 itr: loss=1.2343697330252896, acc=0.6180290297937356\n",
      "15 itr: loss=1.2330422127824185, acc=0.6180290297937356\n",
      "16 itr: loss=1.231787210652222, acc=0.6180290297937356\n",
      "17 itr: loss=1.2305925680365546, acc=0.6180290297937356\n",
      "18 itr: loss=1.2294498310099267, acc=0.6180290297937356\n",
      "19 itr: loss=1.228353122373382, acc=0.6180290297937356\n",
      "20 itr: loss=1.2272981711478306, acc=0.6180290297937356\n"
     ]
    }
   ],
   "source": [
    "for i, (X_ar, y_ar) in enumerate(zip(X_ars, y_ars)):\n",
    "\n",
    "    start = time.time()\n",
    "    W = forward_loop(X_ar, y_ar, lr=1e-6, show_train=True, num_itr=50)\n",
    "    training_times[i][\"numpy - loop\"] = time.time() - start \n",
    "    \n",
    "    accuracys[i][\"numpy - loop\"] = score_loop(X_ar, y_ar, W)"
   ]
  },
  {
   "cell_type": "markdown",
   "metadata": {},
   "source": [
    "### Cupy"
   ]
  },
  {
   "cell_type": "code",
   "execution_count": 78,
   "metadata": {},
   "outputs": [],
   "source": [
    "for i, (X_ar, y_ar) in enumerate(zip(X_ars, y_ars)):\n",
    "\n",
    "    clf = LogisticRegression_py(5, xp=cp)\n",
    "\n",
    "    start = time.time()\n",
    "    clf.fit(X_ar, y_ar, num_itr=50, lr=1e-4)\n",
    "    training_times[i][\"cupy\"] = time.time() - start \n",
    "    \n",
    "    accuracys[i][\"cupy\"] = clf.score(X_ar, y_ar)"
   ]
  },
  {
   "cell_type": "markdown",
   "metadata": {},
   "source": [
    "### Torch - 1GPU"
   ]
  },
  {
   "cell_type": "code",
   "execution_count": 79,
   "metadata": {},
   "outputs": [],
   "source": [
    "from logistic_regression_torch import LogisticRegression_torch, train_torch, score_torch"
   ]
  },
  {
   "cell_type": "code",
   "execution_count": 80,
   "metadata": {},
   "outputs": [
    {
     "data": {
      "text/plain": [
       "device(type='cuda', index=0)"
      ]
     },
     "execution_count": 80,
     "metadata": {},
     "output_type": "execute_result"
    }
   ],
   "source": [
    "device = torch.device(\"cuda:0\" if torch.cuda.is_available() else \"cpu\")\n",
    "device"
   ]
  },
  {
   "cell_type": "code",
   "execution_count": 89,
   "metadata": {},
   "outputs": [],
   "source": [
    "for i, (X_ar, y_ar) in enumerate(zip(X_ars, y_ars)):\n",
    "    clf_torch = LogisticRegression_torch(num_features=X_ar.shape[1], \n",
    "                                     num_classes=5)\n",
    "    clf_torch = clf_torch.to(device)\n",
    "\n",
    "    criterion = BCEWithLogitsLoss()\n",
    "    optimizer = SGD(clf_torch.parameters(), lr=1e-1)\n",
    "    \n",
    "    start = time.time()\n",
    "\n",
    "    train_torch(clf_torch, criterion, optimizer, X_ar, y_ar, \n",
    "                num_itr=50, device=device)\n",
    "\n",
    "    training_times[i][\"torch - 1GPU\"] = time.time() - start \n",
    "    \n",
    "    accuracys[i][\"torch - 1GPU\"] = score_torch(clf_torch, X_ar, y_ar, device=device)"
   ]
  },
  {
   "cell_type": "markdown",
   "metadata": {},
   "source": [
    "### Torch - 2GPU"
   ]
  },
  {
   "cell_type": "code",
   "execution_count": 176,
   "metadata": {},
   "outputs": [
    {
     "name": "stdout",
     "output_type": "stream",
     "text": [
      "Let's use 2 GPUs!\n"
     ]
    }
   ],
   "source": [
    "print(\"Let's use\", torch.cuda.device_count(), \"GPUs!\")"
   ]
  },
  {
   "cell_type": "code",
   "execution_count": 91,
   "metadata": {},
   "outputs": [],
   "source": [
    "for i, (X_ar, y_ar) in enumerate(zip(X_ars, y_ars)):\n",
    "    \n",
    "    clf_torch = LogisticRegression_torch(num_features=X_ar.shape[1], \n",
    "                                     num_classes=5)\n",
    "    clf_torch = clf_torch.to(device)\n",
    "\n",
    "    # Paralleling\n",
    "    clf_torch_multi = nn.DataParallel(clf_torch)\n",
    "\n",
    "    criterion = BCEWithLogitsLoss()\n",
    "    optimizer = SGD(clf_torch_multi.parameters(), lr=1e-1)\n",
    "    \n",
    "    start = time.time()\n",
    "    train_torch(clf_torch_multi, criterion, optimizer, X_ar, y_ar, \n",
    "                num_itr=50, device=device)\n",
    "    training_times[i][\"torch - 2GPU\"] = time.time() - start \n",
    "    \n",
    "    accuracys[i][\"torch - 2GPU\"] = score_torch(clf_torch, X_ar, y_ar, device=device)"
   ]
  },
  {
   "cell_type": "code",
   "execution_count": 92,
   "metadata": {},
   "outputs": [
    {
     "data": {
      "text/plain": [
       "[{'sklearn': 0.7998472116119175,\n",
       "  'numpy': 0.7708174178762414,\n",
       "  'numpy - loop': 0.4919786096256685,\n",
       "  'cupy': 0.7616501145912911,\n",
       "  'torch - 1GPU': 0.6577540106951871,\n",
       "  'torch - 2GPU': 0.6676852559205501},\n",
       " {'sklearn': 0.7983193277310925,\n",
       "  'numpy': 0.6180290297937356,\n",
       "  'numpy - loop': 0.5462184873949579,\n",
       "  'cupy': 0.6180290297937356,\n",
       "  'torch - 1GPU': 0.6699770817417876,\n",
       "  'torch - 2GPU': 0.6440030557677616},\n",
       " {'sklearn': 0.7975553857906799,\n",
       "  'numpy': 0.6180290297937356,\n",
       "  'numpy - loop': 0.6180290297937356,\n",
       "  'cupy': 0.6180290297937356,\n",
       "  'torch - 1GPU': 0.6501145912910619,\n",
       "  'torch - 2GPU': 0.6715049656226126}]"
      ]
     },
     "execution_count": 92,
     "metadata": {},
     "output_type": "execute_result"
    }
   ],
   "source": [
    "accuracys"
   ]
  },
  {
   "cell_type": "markdown",
   "metadata": {},
   "source": [
    "### Numba"
   ]
  },
  {
   "cell_type": "code",
   "execution_count": 93,
   "metadata": {},
   "outputs": [],
   "source": [
    "from numba import jit, njit"
   ]
  },
  {
   "cell_type": "code",
   "execution_count": 97,
   "metadata": {},
   "outputs": [],
   "source": [
    "forward_loop_jit = jit()(forward_loop)\n",
    "score_loop_jit = jit()(score_loop)"
   ]
  },
  {
   "cell_type": "code",
   "execution_count": 98,
   "metadata": {
    "scrolled": true
   },
   "outputs": [
    {
     "name": "stdout",
     "output_type": "stream",
     "text": [
      "1 itr: loss=2.370339960980894, acc=0.6180290297937356\n",
      "2 itr: loss=2.3555153915722107, acc=0.6180290297937356\n",
      "3 itr: loss=2.340899674991383, acc=0.6180290297937356\n",
      "4 itr: loss=2.32649014429966, acc=0.6180290297937356\n",
      "5 itr: loss=2.3122841607788986, acc=0.6180290297937356\n",
      "6 itr: loss=2.298279113672246, acc=0.6180290297937356\n",
      "7 itr: loss=2.284472419925526, acc=0.6180290297937356\n",
      "8 itr: loss=2.2708615239297045, acc=0.6180290297937356\n",
      "9 itr: loss=2.257443897264792, acc=0.6180290297937356\n",
      "10 itr: loss=2.244217038445575, acc=0.6180290297937356\n",
      "11 itr: loss=2.2311784726694843, acc=0.6180290297937356\n",
      "12 itr: loss=2.2183257515670154, acc=0.6180290297937356\n",
      "13 itr: loss=2.2056564529550333, acc=0.6180290297937356\n",
      "14 itr: loss=2.1931681805932204, acc=0.6180290297937356\n",
      "15 itr: loss=2.1808585639440987, acc=0.6172650878533231\n",
      "16 itr: loss=2.168725257936698, acc=0.6172650878533231\n",
      "17 itr: loss=2.1567659427344097, acc=0.6172650878533231\n",
      "18 itr: loss=2.1449783235068227, acc=0.6172650878533231\n",
      "19 itr: loss=2.133360130206174, acc=0.6172650878533231\n",
      "20 itr: loss=2.121909117348157, acc=0.6172650878533231\n",
      "21 itr: loss=2.110623063797407, acc=0.6172650878533231\n",
      "22 itr: loss=2.099499772557598, acc=0.6172650878533231\n",
      "23 itr: loss=2.0885370705662254, acc=0.6172650878533231\n",
      "24 itr: loss=2.0777328084939795, acc=0.6172650878533231\n",
      "25 itr: loss=2.0670848605486905, acc=0.6172650878533231\n",
      "26 itr: loss=2.0565911242836648, acc=0.6172650878533231\n",
      "27 itr: loss=2.0462495204103575, acc=0.6172650878533231\n",
      "28 itr: loss=2.0360579926150413, acc=0.6172650878533231\n",
      "29 itr: loss=2.026014507379523, acc=0.6172650878533231\n",
      "30 itr: loss=2.016117053805312, acc=0.6172650878533231\n",
      "31 itr: loss=2.006363643441398, acc=0.6172650878533231\n",
      "32 itr: loss=1.9967523101149292, acc=0.6172650878533231\n",
      "33 itr: loss=1.9872811097649639, acc=0.6172650878533231\n",
      "34 itr: loss=1.9779481202785647, acc=0.6172650878533231\n",
      "35 itr: loss=1.9687514413292613, acc=0.612681436210848\n",
      "36 itr: loss=1.9596891942174475, acc=0.6119174942704354\n",
      "37 itr: loss=1.950759521712412, acc=0.6119174942704354\n",
      "38 itr: loss=1.9419605878957638, acc=0.6119174942704354\n",
      "39 itr: loss=1.9332905780060001, acc=0.6119174942704354\n",
      "40 itr: loss=1.9247476982838798, acc=0.6119174942704354\n",
      "41 itr: loss=1.9163301758184061, acc=0.6119174942704354\n",
      "42 itr: loss=1.9080362583932196, acc=0.6119174942704354\n",
      "43 itr: loss=1.8998642143331557, acc=0.6119174942704354\n",
      "44 itr: loss=1.8918123323507974, acc=0.6119174942704354\n",
      "45 itr: loss=1.8838789213928657, acc=0.6119174942704354\n",
      "46 itr: loss=1.8760623104862797, acc=0.6119174942704354\n",
      "47 itr: loss=1.8683608485838237, acc=0.6119174942704354\n",
      "48 itr: loss=1.8607729044092889, acc=0.6119174942704354\n",
      "49 itr: loss=1.8532968663019855, acc=0.6119174942704354\n",
      "50 itr: loss=1.8459311420606288, acc=0.6119174942704354\n",
      "1 itr: loss=1.926470369696683, acc=0.5347593582887701\n",
      "2 itr: loss=1.8995752370506005, acc=0.5401069518716578\n",
      "3 itr: loss=1.8746747878017453, acc=0.5446906035141329\n",
      "4 itr: loss=1.851495232547053, acc=0.5492742551566081\n",
      "5 itr: loss=1.8298099316081462, acc=0.5523300229182582\n",
      "6 itr: loss=1.8094321360252832, acc=0.5569136745607334\n",
      "7 itr: loss=1.790208390180627, acc=0.5592055003819709\n",
      "8 itr: loss=1.7720126656081563, acc=0.5653170359052712\n",
      "9 itr: loss=1.7547412669956601, acc=0.5660809778456837\n",
      "10 itr: loss=1.7383085062189871, acc=0.5660809778456837\n",
      "11 itr: loss=1.7226430999973195, acc=0.5729564553093965\n",
      "12 itr: loss=1.707685219997345, acc=0.5760122230710466\n",
      "13 itr: loss=1.6933841112866115, acc=0.5783040488922842\n",
      "14 itr: loss=1.6796961927502938, acc=0.5813598166539343\n",
      "15 itr: loss=1.6665835576188577, acc=0.5828877005347594\n",
      "16 itr: loss=1.6540128004608134, acc=0.5836516424751719\n",
      "17 itr: loss=1.641954106691292, acc=0.5851795263559969\n",
      "18 itr: loss=1.6303805504934157, acc=0.5882352941176471\n",
      "19 itr: loss=1.6192675563045238, acc=0.5920550038197097\n",
      "20 itr: loss=1.6085924873156996, acc=0.5920550038197097\n",
      "21 itr: loss=1.5983343316321956, acc=0.5935828877005348\n",
      "22 itr: loss=1.5884734628429105, acc=0.5935828877005348\n",
      "23 itr: loss=1.578991456802274, acc=0.5943468296409473\n",
      "24 itr: loss=1.5698709505532658, acc=0.5974025974025974\n",
      "25 itr: loss=1.5610955326234548, acc=0.5974025974025974\n",
      "26 itr: loss=1.5526496565401944, acc=0.5974025974025974\n",
      "27 itr: loss=1.5445185714467102, acc=0.5989304812834224\n",
      "28 itr: loss=1.5366882652717018, acc=0.6012223071046601\n",
      "29 itr: loss=1.5291454170995942, acc=0.6027501909854851\n",
      "30 itr: loss=1.521877356292482, acc=0.6027501909854851\n",
      "31 itr: loss=1.5148720265880664, acc=0.6042780748663101\n",
      "32 itr: loss=1.5081179538984268, acc=0.6065699006875478\n",
      "33 itr: loss=1.5016042169017447, acc=0.6065699006875478\n",
      "34 itr: loss=1.4953204197865397, acc=0.6080977845683728\n",
      "35 itr: loss=1.4892566667018554, acc=0.6088617265087853\n",
      "36 itr: loss=1.4834035376050152, acc=0.6088617265087853\n",
      "37 itr: loss=1.4777520652958083, acc=0.6103896103896104\n",
      "38 itr: loss=1.4722937134957217, acc=0.6103896103896104\n",
      "39 itr: loss=1.467020355876239, acc=0.6103896103896104\n",
      "40 itr: loss=1.4619242559727141, acc=0.6103896103896104\n",
      "41 itr: loss=1.4569980479409814, acc=0.6103896103896104\n",
      "42 itr: loss=1.4522347181257338, acc=0.6111535523300229\n",
      "43 itr: loss=1.4476275874191173, acc=0.6111535523300229\n",
      "44 itr: loss=1.4431702943901243, acc=0.6111535523300229\n",
      "45 itr: loss=1.4388567791685798, acc=0.6111535523300229\n",
      "46 itr: loss=1.4346812680666674, acc=0.6111535523300229\n",
      "47 itr: loss=1.4306382589208395, acc=0.612681436210848\n",
      "48 itr: loss=1.4267225071357545, acc=0.612681436210848\n",
      "49 itr: loss=1.4229290124102298, acc=0.612681436210848\n",
      "50 itr: loss=1.4192530061246675, acc=0.6134453781512605\n",
      "1 itr: loss=1.7371291977819343, acc=0.6165011459129106\n",
      "2 itr: loss=1.3333710004630908, acc=0.4965622612681436\n",
      "3 itr: loss=1.3149820092193407, acc=0.5966386554621849\n",
      "4 itr: loss=1.2802318686274061, acc=0.5790679908326967\n",
      "5 itr: loss=1.2726763339581033, acc=0.5981665393430099\n",
      "6 itr: loss=1.2629031314667272, acc=0.6065699006875478\n",
      "7 itr: loss=1.2571776300854567, acc=0.6157372039724981\n",
      "8 itr: loss=1.2522339472777126, acc=0.6172650878533231\n",
      "9 itr: loss=1.2484647093115466, acc=0.6180290297937356\n",
      "10 itr: loss=1.2453211780967668, acc=0.6180290297937356\n",
      "11 itr: loss=1.2427027637382615, acc=0.6180290297937356\n",
      "12 itr: loss=1.2404510612877027, acc=0.6180290297937356\n",
      "13 itr: loss=1.2384842026289584, acc=0.6180290297937356\n",
      "14 itr: loss=1.2367342658225293, acc=0.6180290297937356\n",
      "15 itr: loss=1.2351554832741451, acc=0.6180290297937356\n",
      "16 itr: loss=1.2337134678271213, acc=0.6180290297937356\n",
      "17 itr: loss=1.2323832175699279, acc=0.6180290297937356\n",
      "18 itr: loss=1.2311459720402778, acc=0.6180290297937356\n",
      "19 itr: loss=1.2299875918169756, acc=0.6180290297937356\n",
      "20 itr: loss=1.228897227845553, acc=0.6180290297937356\n",
      "21 itr: loss=1.2278664399923673, acc=0.6180290297937356\n",
      "22 itr: loss=1.2268885488473242, acc=0.6180290297937356\n",
      "23 itr: loss=1.2259581783688387, acc=0.6180290297937356\n",
      "24 itr: loss=1.2250709249352223, acc=0.6180290297937356\n",
      "25 itr: loss=1.2242231190410595, acc=0.6180290297937356\n",
      "26 itr: loss=1.2234116521161036, acc=0.6180290297937356\n",
      "27 itr: loss=1.2226338502025484, acc=0.6180290297937356\n",
      "28 itr: loss=1.2218873811324849, acc=0.6180290297937356\n",
      "29 itr: loss=1.2211701858299249, acc=0.6180290297937356\n",
      "30 itr: loss=1.2204804270041425, acc=0.6180290297937356\n",
      "31 itr: loss=1.2198164504419773, acc=0.6180290297937356\n",
      "32 itr: loss=1.219176755461744, acc=0.6180290297937356\n",
      "33 itr: loss=1.2185599720649951, acc=0.6180290297937356\n",
      "34 itr: loss=1.2179648430161059, acc=0.6180290297937356\n",
      "35 itr: loss=1.2173902095683657, acc=0.6180290297937356\n",
      "36 itr: loss=1.2168349999220354, acc=0.6180290297937356\n",
      "37 itr: loss=1.21629821973817, acc=0.6180290297937356\n",
      "38 itr: loss=1.2157789442256537, acc=0.6180290297937356\n",
      "39 itr: loss=1.2152763114426317, acc=0.6180290297937356\n",
      "40 itr: loss=1.21478951654986, acc=0.6180290297937356\n",
      "41 itr: loss=1.2143178068226796, acc=0.6180290297937356\n",
      "42 itr: loss=1.2138604772742132, acc=0.6180290297937356\n",
      "43 itr: loss=1.213416866780768, acc=0.6180290297937356\n",
      "44 itr: loss=1.2129863546243698, acc=0.6180290297937356\n",
      "45 itr: loss=1.2125683573890125, acc=0.6180290297937356\n",
      "46 itr: loss=1.2121623261571801, acc=0.6180290297937356\n",
      "47 itr: loss=1.2117677439696921, acc=0.6180290297937356\n",
      "48 itr: loss=1.211384123510532, acc=0.6180290297937356\n"
     ]
    },
    {
     "name": "stdout",
     "output_type": "stream",
     "text": [
      "49 itr: loss=1.2110110049969682, acc=0.6180290297937356\n",
      "50 itr: loss=1.2106479542463695, acc=0.6180290297937356\n"
     ]
    }
   ],
   "source": [
    "for i, (X_ar, y_ar) in enumerate(zip(X_ars, y_ars)):\n",
    "\n",
    "    start = time.time()\n",
    "    W = forward_loop_jit(X_ar, y_ar, lr=1e-6, show_train=True, num_itr=50)\n",
    "    training_times[i][\"numba\"] = time.time() - start \n",
    "    \n",
    "    accuracys[i][\"numba\"] = score_loop(X_ar, y_ar, W)"
   ]
  },
  {
   "cell_type": "markdown",
   "metadata": {},
   "source": [
    "## Vizualization"
   ]
  },
  {
   "cell_type": "code",
   "execution_count": 109,
   "metadata": {},
   "outputs": [
    {
     "data": {
      "image/png": "[encoded data removed]",
      "text/plain": [
       "<Figure size 1152x360 with 2 Axes>"
      ]
     },
     "metadata": {
      "needs_background": "light"
     },
     "output_type": "display_data"
    },
    {
     "data": {
      "image/png": "[encoded data removed]",
      "text/plain": [
       "<Figure size 1152x360 with 2 Axes>"
      ]
     },
     "metadata": {
      "needs_background": "light"
     },
     "output_type": "display_data"
    },
    {
     "data": {
      "image/png": "[encoded data removed]",
      "text/plain": [
       "<Figure size 1152x360 with 2 Axes>"
      ]
     },
     "metadata": {
      "needs_background": "light"
     },
     "output_type": "display_data"
    }
   ],
   "source": [
    "for j, times in enumerate([\"1x\", \"10x\", \"100x\"]):\n",
    "\n",
    "    names = ['sklearn', 'numpy', 'cupy', 'torch - 1GPU', 'torch - 2GPU']\n",
    "\n",
    "    fig, ax = plt.subplots(1, 2, figsize=(16, 5))\n",
    "\n",
    "    Y = [accuracys[j][name] for name in names]\n",
    "    ax[0].bar(X, Y, alpha=0.6, color=\"orange\")\n",
    "    ax[0].set_ylim(0., 1.)\n",
    "\n",
    "    Y = [training_times[j][name] for name in names]\n",
    "    ax[1].bar(X, Y, alpha=0.6, color=\"green\")\n",
    "\n",
    "    ax[0].set_ylabel(\"Accuracy\", fontsize=14)\n",
    "    ax[1].set_ylabel(\"Training time\", fontsize=14)\n",
    "\n",
    "    for i in range(2):\n",
    "        ax[i].set_xlabel(\"Methods\", fontsize=14)\n",
    "        ax[i].set_xticklabels(X, rotation=65, fontsize=12)\n",
    "\n",
    "    ax[0].set_title(\"Training accuracy of different methods\", fontsize=16)\n",
    "    ax[1].set_title(\"Training time of different methods\", fontsize=16)\n",
    "\n",
    "    plt.suptitle(\"Results for {} 'Titanic' data\".format(times), fontsize=20)\n",
    "    plt.subplots_adjust(top=0.8)\n",
    "    \n",
    "    plt.show()"
   ]
  },
  {
   "cell_type": "code",
   "execution_count": null,
   "metadata": {},
   "outputs": [],
   "source": []
  },
  {
   "cell_type": "code",
   "execution_count": null,
   "metadata": {},
   "outputs": [],
   "source": []
  }
 ],
 "metadata": {
  "kernelspec": {
   "display_name": "Python 3",
   "language": "python",
   "name": "python3"
  },
  "language_info": {
   "codemirror_mode": {
    "name": "ipython",
    "version": 3
   },
   "file_extension": ".py",
   "mimetype": "text/x-python",
   "name": "python",
   "nbconvert_exporter": "python",
   "pygments_lexer": "ipython3",
   "version": "3.7.4"
  }
 },
 "nbformat": 4,
 "nbformat_minor": 2
}
