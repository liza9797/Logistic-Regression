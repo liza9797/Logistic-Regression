{
 "cells": [
  {
   "cell_type": "code",
   "execution_count": 33,
   "metadata": {},
   "outputs": [],
   "source": [
    "import pandas as pd\n",
    "import numpy as np\n",
    "import cupy as cp\n",
    "\n",
    "import time\n",
    "\n",
    "import matplotlib.pyplot as plt\n",
    "\n",
    "import torch\n",
    "import torch.nn as nn\n",
    "from torch.optim import SGD\n",
    "from torch.nn import BCEWithLogitsLoss\n",
    "\n",
    "import warnings\n",
    "warnings.filterwarnings('ignore')"
   ]
  },
  {
   "cell_type": "markdown",
   "metadata": {},
   "source": [
    "### Data"
   ]
  },
  {
   "cell_type": "code",
   "execution_count": 2,
   "metadata": {},
   "outputs": [],
   "source": [
    "columns = [\"age\", \"sex\", \"cp\", \"trestbps\", \"chol\", \"fbs\", \"restecg\", \n",
    "           \"thalach\", \"exang\", \"oldpeak\", \"slope\", \"ca\",\"thal\",\"num\"]\n",
    "\n",
    "df = pd.DataFrame(columns=columns)\n",
    "\n",
    "with open(\"data/processed.cleveland.data\", \"r\") as f:\n",
    "    for line in f.readlines():\n",
    "        line = line.split(\",\")\n",
    "        line[-1] = line[-1][:-1]\n",
    "        line = [float(l) if l[0].isnumeric() else None for l in line ]\n",
    "        df.loc[df.shape[0]] = line\n"
   ]
  },
  {
   "cell_type": "code",
   "execution_count": 3,
   "metadata": {},
   "outputs": [],
   "source": [
    "# Remove NaN\n",
    "for ind in df.index:\n",
    "    for column in df.columns:\n",
    "        if np.isnan(df.at[ind, column]):\n",
    "            df.at[ind, column] = df[column][~df[column].isna()].mean()"
   ]
  },
  {
   "cell_type": "code",
   "execution_count": 4,
   "metadata": {},
   "outputs": [],
   "source": [
    "# Normalize\n",
    "for column in df.columns:\n",
    "    df[column] = df[column]/df[column].mean()"
   ]
  },
  {
   "cell_type": "code",
   "execution_count": 5,
   "metadata": {},
   "outputs": [
    {
     "data": {
      "text/html": [
       "<div>\n",
       "<style scoped>\n",
       "    .dataframe tbody tr th:only-of-type {\n",
       "        vertical-align: middle;\n",
       "    }\n",
       "\n",
       "    .dataframe tbody tr th {\n",
       "        vertical-align: top;\n",
       "    }\n",
       "\n",
       "    .dataframe thead th {\n",
       "        text-align: right;\n",
       "    }\n",
       "</style>\n",
       "<table border=\"1\" class=\"dataframe\">\n",
       "  <thead>\n",
       "    <tr style=\"text-align: right;\">\n",
       "      <th></th>\n",
       "      <th>age</th>\n",
       "      <th>sex</th>\n",
       "      <th>cp</th>\n",
       "      <th>trestbps</th>\n",
       "      <th>chol</th>\n",
       "      <th>fbs</th>\n",
       "      <th>restecg</th>\n",
       "      <th>thalach</th>\n",
       "      <th>exang</th>\n",
       "      <th>oldpeak</th>\n",
       "      <th>slope</th>\n",
       "      <th>ca</th>\n",
       "      <th>thal</th>\n",
       "      <th>num</th>\n",
       "    </tr>\n",
       "  </thead>\n",
       "  <tbody>\n",
       "    <tr>\n",
       "      <th>0</th>\n",
       "      <td>1.157260</td>\n",
       "      <td>1.470874</td>\n",
       "      <td>0.316614</td>\n",
       "      <td>1.101073</td>\n",
       "      <td>0.944493</td>\n",
       "      <td>6.733333</td>\n",
       "      <td>2.02</td>\n",
       "      <td>1.002625</td>\n",
       "      <td>0.000000</td>\n",
       "      <td>2.212381</td>\n",
       "      <td>1.874227</td>\n",
       "      <td>0.000000</td>\n",
       "      <td>1.267368</td>\n",
       "      <td>0.000000</td>\n",
       "    </tr>\n",
       "    <tr>\n",
       "      <th>1</th>\n",
       "      <td>1.230737</td>\n",
       "      <td>1.470874</td>\n",
       "      <td>1.266458</td>\n",
       "      <td>1.214977</td>\n",
       "      <td>1.159335</td>\n",
       "      <td>0.000000</td>\n",
       "      <td>2.02</td>\n",
       "      <td>0.721890</td>\n",
       "      <td>3.060606</td>\n",
       "      <td>1.442857</td>\n",
       "      <td>1.249485</td>\n",
       "      <td>4.462687</td>\n",
       "      <td>0.633684</td>\n",
       "      <td>2.133803</td>\n",
       "    </tr>\n",
       "    <tr>\n",
       "      <th>2</th>\n",
       "      <td>1.230737</td>\n",
       "      <td>1.470874</td>\n",
       "      <td>1.266458</td>\n",
       "      <td>0.911233</td>\n",
       "      <td>0.928279</td>\n",
       "      <td>0.000000</td>\n",
       "      <td>2.02</td>\n",
       "      <td>0.862258</td>\n",
       "      <td>3.060606</td>\n",
       "      <td>2.500952</td>\n",
       "      <td>1.249485</td>\n",
       "      <td>2.975124</td>\n",
       "      <td>1.478596</td>\n",
       "      <td>1.066901</td>\n",
       "    </tr>\n",
       "    <tr>\n",
       "      <th>3</th>\n",
       "      <td>0.679661</td>\n",
       "      <td>1.470874</td>\n",
       "      <td>0.949843</td>\n",
       "      <td>0.987169</td>\n",
       "      <td>1.013405</td>\n",
       "      <td>0.000000</td>\n",
       "      <td>0.00</td>\n",
       "      <td>1.249939</td>\n",
       "      <td>0.000000</td>\n",
       "      <td>3.366667</td>\n",
       "      <td>1.874227</td>\n",
       "      <td>0.000000</td>\n",
       "      <td>0.633684</td>\n",
       "      <td>0.000000</td>\n",
       "    </tr>\n",
       "    <tr>\n",
       "      <th>4</th>\n",
       "      <td>0.753137</td>\n",
       "      <td>0.000000</td>\n",
       "      <td>0.633229</td>\n",
       "      <td>0.987169</td>\n",
       "      <td>0.826939</td>\n",
       "      <td>0.000000</td>\n",
       "      <td>2.02</td>\n",
       "      <td>1.149677</td>\n",
       "      <td>0.000000</td>\n",
       "      <td>1.346667</td>\n",
       "      <td>0.624742</td>\n",
       "      <td>0.000000</td>\n",
       "      <td>0.633684</td>\n",
       "      <td>0.000000</td>\n",
       "    </tr>\n",
       "  </tbody>\n",
       "</table>\n",
       "</div>"
      ],
      "text/plain": [
       "        age       sex        cp  trestbps      chol       fbs  restecg  \\\n",
       "0  1.157260  1.470874  0.316614  1.101073  0.944493  6.733333     2.02   \n",
       "1  1.230737  1.470874  1.266458  1.214977  1.159335  0.000000     2.02   \n",
       "2  1.230737  1.470874  1.266458  0.911233  0.928279  0.000000     2.02   \n",
       "3  0.679661  1.470874  0.949843  0.987169  1.013405  0.000000     0.00   \n",
       "4  0.753137  0.000000  0.633229  0.987169  0.826939  0.000000     2.02   \n",
       "\n",
       "    thalach     exang   oldpeak     slope        ca      thal       num  \n",
       "0  1.002625  0.000000  2.212381  1.874227  0.000000  1.267368  0.000000  \n",
       "1  0.721890  3.060606  1.442857  1.249485  4.462687  0.633684  2.133803  \n",
       "2  0.862258  3.060606  2.500952  1.249485  2.975124  1.478596  1.066901  \n",
       "3  1.249939  0.000000  3.366667  1.874227  0.000000  0.633684  0.000000  \n",
       "4  1.149677  0.000000  1.346667  0.624742  0.000000  0.633684  0.000000  "
      ]
     },
     "execution_count": 5,
     "metadata": {},
     "output_type": "execute_result"
    }
   ],
   "source": [
    "df.head()"
   ]
  },
  {
   "cell_type": "code",
   "execution_count": 6,
   "metadata": {},
   "outputs": [
    {
     "data": {
      "text/plain": [
       "(303, 14)"
      ]
     },
     "execution_count": 6,
     "metadata": {},
     "output_type": "execute_result"
    }
   ],
   "source": [
    "df.shape"
   ]
  },
  {
   "cell_type": "code",
   "execution_count": 7,
   "metadata": {},
   "outputs": [],
   "source": [
    "# Feature matrix and target\n",
    "X_ar, y_ar = np.array(df)[:,:-1], np.array(df, dtype=int)[:,-1]"
   ]
  },
  {
   "cell_type": "markdown",
   "metadata": {},
   "source": [
    "## Experiments"
   ]
  },
  {
   "cell_type": "code",
   "execution_count": 8,
   "metadata": {},
   "outputs": [],
   "source": [
    "accuracy, training_time = {}, {}"
   ]
  },
  {
   "cell_type": "markdown",
   "metadata": {},
   "source": [
    "### Sklearn"
   ]
  },
  {
   "cell_type": "code",
   "execution_count": 9,
   "metadata": {},
   "outputs": [],
   "source": [
    "from sklearn.linear_model import LogisticRegression as LogisticRegression_sklearn"
   ]
  },
  {
   "cell_type": "code",
   "execution_count": 10,
   "metadata": {},
   "outputs": [
    {
     "name": "stderr",
     "output_type": "stream",
     "text": [
      "/home/artem/.conda/envs/pytorch1_3/lib/python3.7/site-packages/sklearn/linear_model/logistic.py:432: FutureWarning: Default solver will be changed to 'lbfgs' in 0.22. Specify a solver to silence this warning.\n",
      "  FutureWarning)\n",
      "/home/artem/.conda/envs/pytorch1_3/lib/python3.7/site-packages/sklearn/linear_model/logistic.py:469: FutureWarning: Default multi_class will be changed to 'auto' in 0.22. Specify the multi_class option to silence this warning.\n",
      "  \"this warning.\", FutureWarning)\n"
     ]
    }
   ],
   "source": [
    "clf = LogisticRegression_sklearn()\n",
    "\n",
    "start = time.time()\n",
    "clf.fit(X_ar, y_ar)\n",
    "training_time[\"sklearn\"] = time.time() - start "
   ]
  },
  {
   "cell_type": "code",
   "execution_count": 11,
   "metadata": {},
   "outputs": [],
   "source": [
    "accuracy[\"sklearn\"] = clf.score(X_ar, y_ar)"
   ]
  },
  {
   "cell_type": "markdown",
   "metadata": {},
   "source": [
    "### Numpy"
   ]
  },
  {
   "cell_type": "code",
   "execution_count": 12,
   "metadata": {},
   "outputs": [],
   "source": [
    "from logistic_regression_numpy_cupy import LogisticRegression_py"
   ]
  },
  {
   "cell_type": "code",
   "execution_count": 13,
   "metadata": {},
   "outputs": [],
   "source": [
    "clf = LogisticRegression_py(5, xp=np)\n",
    "\n",
    "start = time.time()\n",
    "clf.fit(X_ar, y_ar, num_itr=100, lr=1e-4)\n",
    "training_time[\"numpy\"] = time.time() - start "
   ]
  },
  {
   "cell_type": "code",
   "execution_count": 14,
   "metadata": {},
   "outputs": [],
   "source": [
    "accuracy[\"numpy\"] = clf.score(X_ar, y_ar)"
   ]
  },
  {
   "cell_type": "markdown",
   "metadata": {},
   "source": [
    "### Numpy loop"
   ]
  },
  {
   "cell_type": "code",
   "execution_count": 15,
   "metadata": {},
   "outputs": [],
   "source": [
    "from logistic_regression_numpy_loop import forward_loop, score_loop"
   ]
  },
  {
   "cell_type": "code",
   "execution_count": 17,
   "metadata": {},
   "outputs": [],
   "source": [
    "start = time.time()\n",
    "W = forward_loop(X_ar, y_ar, lr=1e-4, show_train=False)\n",
    "training_time[\"numpy - loop\"] = time.time() - start "
   ]
  },
  {
   "cell_type": "code",
   "execution_count": 18,
   "metadata": {},
   "outputs": [],
   "source": [
    "accuracy[\"numpy - loop\"] = score_loop(X_ar, y_ar, W)"
   ]
  },
  {
   "cell_type": "markdown",
   "metadata": {},
   "source": [
    "### Cupy"
   ]
  },
  {
   "cell_type": "code",
   "execution_count": 19,
   "metadata": {},
   "outputs": [],
   "source": [
    "clf = LogisticRegression_py(5, xp=cp)\n",
    "\n",
    "start = time.time()\n",
    "clf.fit(X_ar, y_ar, num_itr=100, lr=1e-4)\n",
    "training_time[\"cupy\"] = time.time() - start "
   ]
  },
  {
   "cell_type": "code",
   "execution_count": 20,
   "metadata": {},
   "outputs": [],
   "source": [
    "accuracy[\"cupy\"] = clf.score(X_ar, y_ar)"
   ]
  },
  {
   "cell_type": "markdown",
   "metadata": {},
   "source": [
    "### Torch - 1GPU"
   ]
  },
  {
   "cell_type": "code",
   "execution_count": 21,
   "metadata": {},
   "outputs": [],
   "source": [
    "from logistic_regression_torch import LogisticRegression_torch, train_torch, score_torch"
   ]
  },
  {
   "cell_type": "code",
   "execution_count": 22,
   "metadata": {},
   "outputs": [
    {
     "data": {
      "text/plain": [
       "device(type='cuda', index=0)"
      ]
     },
     "execution_count": 22,
     "metadata": {},
     "output_type": "execute_result"
    }
   ],
   "source": [
    "device = torch.device(\"cuda:0\" if torch.cuda.is_available() else \"cpu\")\n",
    "device"
   ]
  },
  {
   "cell_type": "code",
   "execution_count": 23,
   "metadata": {},
   "outputs": [],
   "source": [
    "clf_torch = LogisticRegression_torch(num_features=X_ar.shape[1], \n",
    "                                     num_classes=5)\n",
    "clf_torch = clf_torch.to(device)\n",
    "\n",
    "criterion = BCEWithLogitsLoss()\n",
    "optimizer = SGD(clf_torch.parameters(), lr=1e-1)"
   ]
  },
  {
   "cell_type": "code",
   "execution_count": 24,
   "metadata": {},
   "outputs": [],
   "source": [
    "start = time.time()\n",
    "\n",
    "train_torch(clf_torch, criterion, optimizer, X_ar, y_ar, \n",
    "            num_itr=100, device=device)\n",
    "\n",
    "training_time[\"torch - 1GPU\"] = time.time() - start "
   ]
  },
  {
   "cell_type": "code",
   "execution_count": 25,
   "metadata": {},
   "outputs": [],
   "source": [
    "accuracy[\"torch - 1GPU\"] = score_torch(clf_torch, X_ar, y_ar, device=device)"
   ]
  },
  {
   "cell_type": "markdown",
   "metadata": {},
   "source": [
    "### Torch - 2GPU"
   ]
  },
  {
   "cell_type": "code",
   "execution_count": 26,
   "metadata": {},
   "outputs": [
    {
     "name": "stdout",
     "output_type": "stream",
     "text": [
      "Let's use 2 GPUs!\n"
     ]
    }
   ],
   "source": [
    "print(\"Let's use\", torch.cuda.device_count(), \"GPUs!\")"
   ]
  },
  {
   "cell_type": "code",
   "execution_count": 27,
   "metadata": {},
   "outputs": [],
   "source": [
    "clf_torch = LogisticRegression_torch(num_features=X_ar.shape[1], \n",
    "                                     num_classes=5)\n",
    "clf_torch = clf_torch.to(device)\n",
    "\n",
    "# Paralleling\n",
    "clf_torch_multi = nn.DataParallel(clf_torch)\n",
    "\n",
    "criterion = BCEWithLogitsLoss()\n",
    "optimizer = SGD(clf_torch_multi.parameters(), lr=1e-1)"
   ]
  },
  {
   "cell_type": "code",
   "execution_count": 28,
   "metadata": {},
   "outputs": [],
   "source": [
    "start = time.time()\n",
    "train_torch(clf_torch_multi, criterion, optimizer, X_ar, y_ar, \n",
    "            num_itr=100, device=device)\n",
    "training_time[\"torch - 2GPU\"] = time.time() - start "
   ]
  },
  {
   "cell_type": "code",
   "execution_count": 29,
   "metadata": {},
   "outputs": [],
   "source": [
    "accuracy[\"torch - 2GPU\"] = score_torch(clf_torch, X_ar, y_ar, device=device)"
   ]
  },
  {
   "cell_type": "markdown",
   "metadata": {},
   "source": [
    "### Numba"
   ]
  },
  {
   "cell_type": "code",
   "execution_count": 30,
   "metadata": {},
   "outputs": [],
   "source": [
    "from numba import jit"
   ]
  },
  {
   "cell_type": "code",
   "execution_count": 31,
   "metadata": {},
   "outputs": [],
   "source": [
    "forward_loop_jit = jit()(forward_loop)\n",
    "score_loop_jit = jit()(score_loop)"
   ]
  },
  {
   "cell_type": "code",
   "execution_count": 34,
   "metadata": {
    "scrolled": true
   },
   "outputs": [],
   "source": [
    "start = time.time()\n",
    "W = forward_loop_jit(X_ar, y_ar, lr=1e-4, show_train=False)\n",
    "training_time[\"numba\"] = time.time() - start "
   ]
  },
  {
   "cell_type": "code",
   "execution_count": 35,
   "metadata": {
    "scrolled": true
   },
   "outputs": [],
   "source": [
    "accuracy[\"numba\"] = score_loop_jit(X_ar, y_ar, W)"
   ]
  },
  {
   "cell_type": "markdown",
   "metadata": {},
   "source": [
    "## Vizualization"
   ]
  },
  {
   "cell_type": "code",
   "execution_count": 38,
   "metadata": {},
   "outputs": [
    {
     "data": {
      "text/plain": [
       "Text(0.5, 1.0, 'Training time of different methods')"
      ]
     },
     "execution_count": 38,
     "metadata": {},
     "output_type": "execute_result"
    },
    {
     "data": {
      "image/png": "[encoded data removed]",
      "text/plain": [
       "<Figure size 1152x360 with 2 Axes>"
      ]
     },
     "metadata": {
      "needs_background": "light"
     },
     "output_type": "display_data"
    }
   ],
   "source": [
    "fig, ax = plt.subplots(1, 2, figsize=(16, 5))\n",
    "\n",
    "ax[0].bar(accuracy.keys(), accuracy.values(), alpha=0.6, color=\"orange\")\n",
    "ax[0].set_ylim(0., 1.)\n",
    "\n",
    "ax[1].bar(training_time.keys(), training_time.values(), alpha=0.6, color=\"green\")\n",
    "\n",
    "ax[0].set_ylabel(\"Accuracy\", fontsize=14)\n",
    "ax[1].set_ylabel(\"Training time\", fontsize=14)\n",
    "\n",
    "for i in range(2):\n",
    "    ax[i].set_xlabel(\"Methods\", fontsize=14)\n",
    "    ax[i].set_xticklabels(training_time.keys(), rotation=65, fontsize=12)\n",
    "\n",
    "ax[0].set_title(\"Training accuracy of different methods\", fontsize=16)\n",
    "ax[1].set_title(\"Training time of different methods\", fontsize=16)"
   ]
  },
  {
   "cell_type": "code",
   "execution_count": null,
   "metadata": {},
   "outputs": [],
   "source": []
  }
 ],
 "metadata": {
  "kernelspec": {
   "display_name": "Python 3",
   "language": "python",
   "name": "python3"
  },
  "language_info": {
   "codemirror_mode": {
    "name": "ipython",
    "version": 3
   },
   "file_extension": ".py",
   "mimetype": "text/x-python",
   "name": "python",
   "nbconvert_exporter": "python",
   "pygments_lexer": "ipython3",
   "version": "3.7.4"
  }
 },
 "nbformat": 4,
 "nbformat_minor": 2
}
